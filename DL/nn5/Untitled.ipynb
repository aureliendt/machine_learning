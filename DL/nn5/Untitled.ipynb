{
 "cells": [
  {
   "cell_type": "code",
   "execution_count": 1,
   "metadata": {},
   "outputs": [
    {
     "name": "stderr",
     "output_type": "stream",
     "text": [
      "/Users/auredt7892/anaconda/lib/python3.6/site-packages/h5py/__init__.py:34: FutureWarning: Conversion of the second argument of issubdtype from `float` to `np.floating` is deprecated. In future, it will be treated as `np.float64 == np.dtype(float).type`.\n",
      "  from ._conv import register_converters as _register_converters\n"
     ]
    }
   ],
   "source": [
    "import tensorflow as tf\n",
    "import numpy as np\n",
    "import DataSets as ds\n",
    "import Layers"
   ]
  },
  {
   "cell_type": "code",
   "execution_count": 2,
   "metadata": {
    "collapsed": true
   },
   "outputs": [],
   "source": [
    "def get_dict(database,IsTrainingMode):\n",
    "\txs,ys = database.NextTrainingBatch()\n",
    "\treturn {x:xs,y_desired:ys,ITM:IsTrainingMode}"
   ]
  },
  {
   "cell_type": "code",
   "execution_count": 3,
   "metadata": {},
   "outputs": [
    {
     "name": "stdout",
     "output_type": "stream",
     "text": [
      "nb data :  10000\n",
      "nb data :  10000\n"
     ]
    }
   ],
   "source": [
    "LoadModel = False\n",
    "KeepProb_Dropout = 0.9\n",
    "\n",
    "experiment_name = '10k_Dr%.3f'%KeepProb_Dropout\n",
    "#train = ds.DataSet('../DataBases/data_1k.bin','../DataBases/gender_1k.bin',1000)\n",
    "train = ds.DataSet('../DataBases/data_10k.bin','../DataBases/gender_10k.bin',10000)\n",
    "#train = ds.DataSet('../DataBases/data_100k.bin','../DataBases/gender_100k.bin',100000)\n",
    "test = ds.DataSet('../DataBases/data_test10k.bin','../DataBases/gender_test10k.bin',10000)"
   ]
  },
  {
   "cell_type": "code",
   "execution_count": 4,
   "metadata": {},
   "outputs": [
    {
     "name": "stdout",
     "output_type": "stream",
     "text": [
      "unflat output   Tensor(\"CNN/Reshape:0\", shape=(?, 48, 48, 1), dtype=float32)\n",
      "conv_3_0 input   Tensor(\"CNN/Reshape:0\", shape=(?, 48, 48, 1), dtype=float32)\n",
      "conv_3_0 W   (3, 3, 1, 3)\n",
      "conv_3_1 input   Tensor(\"CNN/conv_3_0/cond/Merge:0\", shape=(?, 48, 48, 3), dtype=float32)\n",
      "conv_3_1 W   (3, 3, 3, 3)\n",
      "conv_6_0 input   Tensor(\"CNN/pool/MaxPool:0\", shape=(?, 24, 24, 3), dtype=float32)\n",
      "conv_6_0 W   (3, 3, 3, 6)\n",
      "conv_6_1 input   Tensor(\"CNN/conv_6_0/cond/Merge:0\", shape=(?, 24, 24, 6), dtype=float32)\n",
      "conv_6_1 W   (3, 3, 6, 6)\n",
      "conv_12_0 input   Tensor(\"CNN/pool_1/MaxPool:0\", shape=(?, 12, 12, 6), dtype=float32)\n",
      "conv_12_0 W   (3, 3, 6, 12)\n",
      "conv_12_1 input   Tensor(\"CNN/conv_12_0/cond/Merge:0\", shape=(?, 12, 12, 12), dtype=float32)\n",
      "conv_12_1 W   (3, 3, 12, 12)\n",
      "conv_24_0 input   Tensor(\"CNN/pool_2/MaxPool:0\", shape=(?, 6, 6, 12), dtype=float32)\n",
      "conv_24_0 W   (3, 3, 12, 24)\n",
      "conv_24_1 input   Tensor(\"CNN/conv_24_0/cond/Merge:0\", shape=(?, 6, 6, 24), dtype=float32)\n",
      "conv_24_1 W   (3, 3, 24, 24)\n",
      "flat output   Tensor(\"CNN/Reshape_1:0\", shape=(?, 216), dtype=float32)\n",
      "fc_2 input   Tensor(\"CNN/Reshape_1:0\", shape=(?, 216), dtype=float32)\n",
      "fc_2 W   (216, 2)\n",
      "INFO:tensorflow:Summary name cross entropy is illegal; using cross_entropy instead.\n",
      "WARNING:tensorflow:From /Users/auredt7892/anaconda/lib/python3.6/site-packages/tensorflow/python/ops/nn_grad.py:249: calling reduce_sum (from tensorflow.python.ops.math_ops) with keep_dims is deprecated and will be removed in a future version.\n",
      "Instructions for updating:\n",
      "keep_dims is deprecated, use keepdims instead\n"
     ]
    }
   ],
   "source": [
    "with tf.name_scope('input'):\n",
    "\tx = tf.placeholder(tf.float32, [None, train.dim],name='x')\n",
    "\ty_desired = tf.placeholder(tf.float32, [None, 2],name='y_desired')\n",
    "\tITM = tf.placeholder(\"bool\", name='Is_Training_Mode')\n",
    "\n",
    "with tf.name_scope('CNN'):\n",
    "\tt = Layers.unflat(x,48,48,1)\n",
    "\tnbfilter = 3\n",
    "\tfor k in range(4):\n",
    "\t\tfor i in range(2):\n",
    "\t\t\tt = Layers.conv(t,nbfilter,3,1,ITM,'conv_%d_%d'%(nbfilter,i),KeepProb_Dropout)\n",
    "\t\tt = Layers.maxpool(t,2,'pool')\n",
    "\t\tnbfilter *= 2\n",
    "\t\n",
    "\tt = Layers.flat(t)\n",
    "\t#t = Layers.fc(t,50,ITM,'fc_1',KeepProb_Dropout)\n",
    "\ty = Layers.fc(t,2,ITM,'fc_2',KP_dropout=1.0,act=tf.nn.log_softmax)\n",
    "\n",
    "with tf.name_scope('cross_entropy'):\n",
    "\tdiff = y_desired * y \n",
    "\twith tf.name_scope('total'):\n",
    "\t\tcross_entropy = -tf.reduce_mean(diff)\n",
    "\ttf.summary.scalar('cross entropy', cross_entropy)\t\n",
    "\t\n",
    "with tf.name_scope('accuracy'):\n",
    "\twith tf.name_scope('correct_prediction'):\n",
    "\t\tcorrect_prediction = tf.equal(tf.argmax(y, 1), tf.argmax(y_desired, 1))\n",
    "\twith tf.name_scope('accuracy'):\n",
    "\t\taccuracy = tf.reduce_mean(tf.cast(correct_prediction, tf.float32))\n",
    "\ttf.summary.scalar('accuracy', accuracy)\t\n",
    "\n",
    "with tf.name_scope('learning_rate'):\n",
    "\tglobal_step = tf.Variable(0, trainable=False)\n",
    "\tlearning_rate = tf.train.exponential_decay(1e-3,global_step,1000, 0.75, staircase=True)\n",
    "\n",
    "with tf.name_scope('learning_rate'):\n",
    "    tf.summary.scalar('learning_rate', learning_rate)\n",
    "\n",
    "#train_step = tf.train.GradientDescentOptimizer(0.00001).minimize(cross_entropy)\n",
    "train_step = tf.train.AdamOptimizer(learning_rate).minimize(cross_entropy,global_step=global_step)\n",
    "merged = tf.summary.merge_all()\n",
    "\n",
    "Acc_Train = tf.placeholder(\"float\", name='Acc_Train');\n",
    "Acc_Test = tf.placeholder(\"float\", name='Acc_Test');\n",
    "MeanAcc_summary = tf.summary.merge([tf.summary.scalar('Acc_Train', Acc_Train),\\\n",
    "                                    tf.summary.scalar('Acc_Test', Acc_Test)])"
   ]
  },
  {
   "cell_type": "code",
   "execution_count": null,
   "metadata": {
    "collapsed": true
   },
   "outputs": [],
   "source": []
  }
 ],
 "metadata": {
  "kernelspec": {
   "display_name": "Python 3",
   "language": "python",
   "name": "python3"
  },
  "language_info": {
   "codemirror_mode": {
    "name": "ipython",
    "version": 3
   },
   "file_extension": ".py",
   "mimetype": "text/x-python",
   "name": "python",
   "nbconvert_exporter": "python",
   "pygments_lexer": "ipython3",
   "version": "3.6.1"
  }
 },
 "nbformat": 4,
 "nbformat_minor": 2
}
