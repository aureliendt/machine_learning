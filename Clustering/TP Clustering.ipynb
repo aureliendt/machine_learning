{
 "cells": [
  {
   "cell_type": "code",
   "execution_count": 132,
   "metadata": {},
   "outputs": [],
   "source": [
    "import matplotlib.pyplot as plt\n",
    "%matplotlib inline"
   ]
  },
  {
   "cell_type": "markdown",
   "metadata": {},
   "source": [
    "# TP no 7 : Clustering"
   ]
  },
  {
   "cell_type": "markdown",
   "metadata": {},
   "source": [
    "## K-Means"
   ]
  },
  {
   "cell_type": "markdown",
   "metadata": {},
   "source": [
    "#### 1) En vous basant sur le squelette de code dans le fichier kmeans.py, implémentez l'algorithme K- Means. Le fichier termine avec un exemple de code qui vous servira de validation. Il utilise la fonction make_blobs qui permet de simuler un dataset."
   ]
  },
  {
   "cell_type": "code",
   "execution_count": 95,
   "metadata": {},
   "outputs": [],
   "source": [
    "import numpy as np\n",
    "from numpy import linalg as LA\n",
    "\n",
    "def compute_labels(X, centroids):\n",
    "    \"\"\"Compute labels.\n",
    "\n",
    "    Parameters\n",
    "    ----------\n",
    "    X: array-like, shape (n_samples, n_features)\n",
    "        List of n_features-dimensional data points. Each row corresponds\n",
    "        to a single data point.\n",
    "\n",
    "    centroids: array-like, shape (n_clusters, n_features)\n",
    "        The estimated centroids.\n",
    "\n",
    "    Returns\n",
    "    -------\n",
    "    labels : array, shape (n_samples,)\n",
    "        The labels of each sample\n",
    "    \"\"\"\n",
    "    \n",
    "    labels = []\n",
    "    \n",
    "    for i in range(len(X)):\n",
    "        a=[]\n",
    "        for j in range (len(centroids)):\n",
    "            a.append(LA.norm(X[i]-centroids[j]))\n",
    "        label = np.argmin(a)\n",
    "        \n",
    "        labels.append(label)\n",
    "    \n",
    "    return(np.array(labels)) "
   ]
  },
  {
   "cell_type": "code",
   "execution_count": 124,
   "metadata": {
    "collapsed": true
   },
   "outputs": [],
   "source": [
    "def compute_inertia_centroids(X, labels):\n",
    "    \"\"\"Compute inertia and centroids.\n",
    "\n",
    "    Parameters\n",
    "    ----------\n",
    "    X: array-like, shape (n_samples, n_features)\n",
    "        List of n_features-dimensional data points. Each row corresponds\n",
    "        to a single data point.\n",
    "\n",
    "    labels : array-like, shape (n_saples,)\n",
    "        The labels of each sample.\n",
    "\n",
    "    Returns\n",
    "    -------\n",
    "    inertia: float\n",
    "        The inertia.\n",
    "\n",
    "    centroids: array-like, shape (n_clusters, n_features)\n",
    "        The estimated centroids.\n",
    "    \"\"\"\n",
    "    centroids = np.empty([n_clusters,X.shape[1]])\n",
    "    var_intra=[]\n",
    "    for j in range (0,n_clusters):\n",
    "        centroids[j] = (1/(len(X[labels==j])+1))*np.sum(X[labels==j],axis=0)\n",
    "        var_intraj=[]\n",
    "        for i in range (len(X[labels==j])):\n",
    "            var_intraj.append(LA.norm(X[labels==j][i]-centroids[j]))\n",
    "        var_intra.append(sum(var_intraj))\n",
    "    inertia = sum(var_intra)\n",
    "    \n",
    "    return(inertia,centroids)"
   ]
  },
  {
   "cell_type": "code",
   "execution_count": 135,
   "metadata": {},
   "outputs": [],
   "source": [
    "def kmeans(X, n_clusters, max_iter=100, tol=1e-7,random_state=42):\n",
    "    \"\"\"Estimate position of centroids and labels.\n",
    "\n",
    "    Parameters\n",
    "    ----------\n",
    "    X: array-like, shape (n_samples, n_features)\n",
    "        List of n_features-dimensional data points. Each row corresponds\n",
    "        to a single data point.\n",
    "\n",
    "    n_clusters: int\n",
    "        The desired number of clusters.\n",
    "\n",
    "    max_iter: int, defaults 100.\n",
    "        Max number of update.\n",
    "\n",
    "    tol: float, defaults 1e-7.\n",
    "        The tolerance to check convergence.\n",
    "\n",
    "    random_state: int, defaults to 42.\n",
    "        A random number generator instance.\n",
    "\n",
    "    Returns\n",
    "    -------\n",
    "    centroids: array-like, shape (n_clusters, n_features)\n",
    "        The estimated centroids.\n",
    "\n",
    "    labels: array-like, shape (n_samples,)\n",
    "        The estimated labels.\n",
    "\n",
    "    inertia: float\n",
    "        The inertia.\n",
    "    \"\"\"\n",
    "    centroids = np.empty((n_clusters,X.shape[1]))\n",
    "    for i in range(0,n_clusters):\n",
    "        centroids[i] = X[np.random.randint(0,len(X), size=1)]\n",
    "    \n",
    "    inertia = 10\n",
    "    inertie = []\n",
    "    for i in range (0,max_iter):\n",
    "        labels = compute_labels(X,centroids)\n",
    "        inertia=compute_inertia_centroids(X, labels)[0]\n",
    "        inertie.append(inertia)\n",
    "        centroids = compute_inertia_centroids(X, labels)[1]\n",
    "        i=i+1\n",
    "\n",
    "       \n",
    "    return(labels,centroids,inertie)"
   ]
  },
  {
   "cell_type": "code",
   "execution_count": 136,
   "metadata": {},
   "outputs": [
    {
     "data": {
      "image/png": "[encoded data removed]",
      "text/plain": [
       "<matplotlib.figure.Figure at 0x1188b49b0>"
      ]
     },
     "metadata": {},
     "output_type": "display_data"
    }
   ],
   "source": [
    "from sklearn.datasets import make_blobs\n",
    "\n",
    "# Parameters\n",
    "random_state = 0\n",
    "n_samples = 1000\n",
    "color = 'rgbcmyk'\n",
    "\n",
    "# Generate data\n",
    "X, y = make_blobs(n_samples=n_samples, random_state=random_state,\n",
    "                  centers=3)\n",
    "\n",
    "result = kmeans(X, 2, max_iter=100, tol=1e-7)\n",
    "# Q1-Q4 Apply K-means to X\n",
    "for j in range(n_clusters):\n",
    "    plt.scatter(X[result[0]==j][:,0],X[result[0]==j][:,1])"
   ]
  },
  {
   "cell_type": "markdown",
   "metadata": {},
   "source": [
    "#### 2) L'inertie décroît-elle bien au cours des itérations ? Vous a\u001e",
    "cherez la décroissance de l'inertie en fonction des itérations."
   ]
  },
  {
   "cell_type": "code",
   "execution_count": 137,
   "metadata": {},
   "outputs": [
    {
     "data": {
      "text/plain": [
       "[<matplotlib.lines.Line2D at 0x1191916a0>]"
      ]
     },
     "execution_count": 137,
     "metadata": {},
     "output_type": "execute_result"
    },
    {
     "data": {
      "image/png": "[encoded data removed]",
      "text/plain": [
       "<matplotlib.figure.Figure at 0x118fa4630>"
      ]
     },
     "metadata": {},
     "output_type": "display_data"
    }
   ],
   "source": [
    "plt.plot(result[2])"
   ]
  },
  {
   "cell_type": "markdown",
   "metadata": {},
   "source": [
    "#### 3) En faisant varier l'initialisation du générateur de nombres aléatoires, observez que la solution trouvée n'est pas toujours la même. Vous pourrez augmenter le nombre de clusters simulés pour mettre d'avantage en évidence le phénomène."
   ]
  },
  {
   "cell_type": "code",
   "execution_count": 141,
   "metadata": {},
   "outputs": [
    {
     "data": {
      "image/png": "[encoded data removed]",
      "text/plain": [
       "<matplotlib.figure.Figure at 0x1191ef2b0>"
      ]
     },
     "metadata": {},
     "output_type": "display_data"
    }
   ],
   "source": [
    "from sklearn.datasets import make_blobs\n",
    "\n",
    "# Parameters\n",
    "random_state = 10\n",
    "n_samples = 1000\n",
    "color = 'rgbcmyk'\n",
    "n_clusters = 10\n",
    "# Generate data\n",
    "X, y = make_blobs(n_samples=n_samples, random_state=random_state,\n",
    "                  centers=10)\n",
    "\n",
    "result = kmeans(X, 2, max_iter=100, tol=1e-7)\n",
    "# Q1-Q4 Apply K-means to X\n",
    "for j in range(n_clusters):\n",
    "    plt.scatter(X[result[0]==j][:,0],X[result[0]==j][:,1])"
   ]
  },
  {
   "cell_type": "markdown",
   "metadata": {},
   "source": [
    "#### 4) Comparez votre implémentation avec celle de scikit-learn, en terme de résultat et temps de calcul. Vous pourrez utiliser la commande %%timeit d'IPython pour évaluer le temps de calcul d'une cellule du notebook. Voici un exemple d'utilisation de scikit-learn :"
   ]
  },
  {
   "cell_type": "code",
   "execution_count": 149,
   "metadata": {},
   "outputs": [
    {
     "data": {
      "image/png": "[encoded data removed]",
      "text/plain": [
       "<matplotlib.figure.Figure at 0x11a0b9e80>"
      ]
     },
     "metadata": {},
     "output_type": "display_data"
    }
   ],
   "source": [
    "from sklearn import cluster\n",
    "centers= 3\n",
    "# Generate data\n",
    "X, y = make_blobs(n_samples=n_samples, random_state=random_state,\n",
    "                  centers=3)\n",
    "kmeans = cluster.KMeans(n_clusters=3, n_init=10)\n",
    "kmeans.fit(X)\n",
    "labels = kmeans.labels_\n",
    "for j in range(centers):\n",
    "    plt.scatter(X[labels==j][:,0],X[labels==j][:,1])"
   ]
  },
  {
   "cell_type": "code",
   "execution_count": null,
   "metadata": {
    "collapsed": true
   },
   "outputs": [],
   "source": []
  },
  {
   "cell_type": "code",
   "execution_count": null,
   "metadata": {
    "collapsed": true
   },
   "outputs": [],
   "source": [
    "import numpy as np\n",
    "import matplotlib.pyplot as plt\n",
    "\n",
    "from sklearn.datasets import make_blobs\n",
    "\n",
    "\n",
    "def compute_log_inertia(X, n_clusters, T, bb_min, bb_max,\n",
    "                        random_state=0):\n",
    "    \"\"\"Compute the log inertia of X and X_t.\n",
    "\n",
    "    Parameters\n",
    "    ----------\n",
    "    X: array-like, shape (n_samples, n_features)\n",
    "        List of n_features-dimensional data points. Each row corresponds\n",
    "        to a single data point.\n",
    "\n",
    "    n_clusters: int\n",
    "        The desired number of clusters.\n",
    "\n",
    "    T: int\n",
    "        Number of draws of X_t.\n",
    "\n",
    "    bb_min: array, shape (n_features,)\n",
    "        Inferior corner of the bounding box of X.\n",
    "\n",
    "    bb_max: array, shape (n_features,)\n",
    "        Superior corner of the bounding box of X.\n",
    "\n",
    "    random_state: int, defaults to 0.\n",
    "        A random number generator instance.\n",
    "\n",
    "    Returns\n",
    "    -------\n",
    "    log_inertia: float\n",
    "        Log of the inertia of the K-means applied to X.\n",
    "\n",
    "    mean_log_inertia_rand: float\n",
    "        Mean of the log of the inertia of the K-means applied to the different\n",
    "        X_t.\n",
    "\n",
    "    std_log_inertia_rand: float\n",
    "        Standard deviation of the log of the inertia of the K-means applied to\n",
    "        the different X_t.\n",
    "    \"\"\"\n",
    "    X_t = X[np.random.randint(0,len(X), size=1)]\n",
    "    \n",
    "    \n",
    "    pass\n",
    "\n",
    "\n",
    "def compute_gap(X, n_clusters_max, T=10, random_state=0):\n",
    "    \"\"\"Compute values of Gap and delta.\n",
    "\n",
    "    Parameters\n",
    "    ----------\n",
    "    X: array-like, shape (n_samples, n_features)\n",
    "        List of n_features-dimensional data points. Each row corresponds\n",
    "        to a single data point.\n",
    "\n",
    "    n_cluster_max: int\n",
    "        Maximum number of cluster to test.\n",
    "\n",
    "    T: int, defaults 10.\n",
    "        Number of draws of X_t.\n",
    "\n",
    "    random_state: int, defaults to 0.\n",
    "        A random number generator instance.\n",
    "\n",
    "    Returns\n",
    "    -------\n",
    "    n_clusters_range: array-like, shape (n_clusters_max-1,)\n",
    "        Array of number of clusters tested.\n",
    "\n",
    "    gap: array-like, shape (n_clusters_max-1,)\n",
    "        Return the gap values.\n",
    "\n",
    "    delta: array-like, shape (n_clusters_max-1,)\n",
    "        Return the delta values.\n",
    "    \"\"\"\n",
    "    pass"
   ]
  }
 ],
 "metadata": {
  "kernelspec": {
   "display_name": "Python 3",
   "language": "python",
   "name": "python3"
  },
  "language_info": {
   "codemirror_mode": {
    "name": "ipython",
    "version": 3
   },
   "file_extension": ".py",
   "mimetype": "text/x-python",
   "name": "python",
   "nbconvert_exporter": "python",
   "pygments_lexer": "ipython3",
   "version": "3.6.1"
  }
 },
 "nbformat": 4,
 "nbformat_minor": 2
}
